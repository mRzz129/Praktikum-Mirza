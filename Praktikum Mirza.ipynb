{
 "cells": [
  {
   "cell_type": "markdown",
   "id": "76e73308",
   "metadata": {},
   "source": [
    "<h3>jawaban no 1<h3>\n",
    "    "
   ]
  },
  {
   "cell_type": "code",
   "execution_count": 1,
   "id": "a2c9c3f8",
   "metadata": {},
   "outputs": [
    {
     "name": "stdout",
     "output_type": "stream",
     "text": [
      "hoby kamu apa? : maen game\n",
      "hoby kamu : maen game\n"
     ]
    }
   ],
   "source": [
    "hoby=input('hoby kamu apa? : ')\n",
    "print(f\"hoby kamu : {hoby}\")"
   ]
  },
  {
   "cell_type": "markdown",
   "id": "21e3521e",
   "metadata": {},
   "source": [
    "<h3>jawaban no 2<h3>"
   ]
  },
  {
   "cell_type": "code",
   "execution_count": 16,
   "id": "9ebeeb2d",
   "metadata": {},
   "outputs": [
    {
     "name": "stdout",
     "output_type": "stream",
     "text": [
      "siapa nama kamu :Mirza\n",
      "nama kamu berawalan huruf: M\n"
     ]
    }
   ],
   "source": [
    "nama = input(\"siapa nama kamu :\")\n",
    "print(f\"nama kamu berawalan huruf: {nama[0]}\")\n"
   ]
  },
  {
   "cell_type": "markdown",
   "id": "e277fad3",
   "metadata": {},
   "source": [
    "<h3>latihan<h3>\n",
    "    <ol>\n",
    "        <li>buatlah program tebak hasil dari perkalian dari 2 angka dari 0 sampai 100. jika user menjawab benar maka tampil jawaban anda true, jika salah maka tampil jawaban anda false</li>\n",
    "    "
   ]
  },
  {
   "cell_type": "code",
   "execution_count": 1,
   "id": "9a867fc8",
   "metadata": {},
   "outputs": [
    {
     "name": "stdout",
     "output_type": "stream",
     "text": [
      "berapakah hasil perkalian 10 dan 56 : 560\n",
      "jawaban anda True\n"
     ]
    }
   ],
   "source": [
    "from random import randint\n",
    "angka_1 = randint(0,100)\n",
    "angka_2 = randint(0,100)\n",
    "\n",
    "hasil = int(input(f\"berapakah hasil perkalian {angka_1} dan {angka_2} : \"))\n",
    "print(f\"jawaban anda {hasil==angka_1 * angka_2}\" )            "
   ]
  },
  {
   "cell_type": "markdown",
   "id": "c43d1101",
   "metadata": {},
   "source": [
    "<h3>Latihan<h3>\n",
    "    <ui>Carilah kode CLDR Names dan unicode dari emoji, dan cetaklah menggunakan fungsi print<ui>"
   ]
  },
  {
   "cell_type": "code",
   "execution_count": 3,
   "id": "5ae32a8e",
   "metadata": {},
   "outputs": [
    {
     "name": "stdout",
     "output_type": "stream",
     "text": [
      "names : angry face\n",
      "unicode : U0001F621\n",
      "😡\n"
     ]
    }
   ],
   "source": [
    "print(\"names : angry face\")\n",
    "print(\"unicode : U0001F621\")\n",
    "print(\"\\U0001F621\")"
   ]
  },
  {
   "cell_type": "markdown",
   "id": "75846e54",
   "metadata": {},
   "source": [
    "<h3>latihan<h3>\n",
    "    <hr>jika terdapat sebuah string Belajar Pemrograman Python maka tampilkan output berikut ini menggunakan fungsi print<hr>\n",
    "    <ol>\n",
    "        <li>Belajar</li>\n",
    "        <li>ajar</li>\n",
    "        <li>Pemrograman</li>\n",
    "        <li>gram</li>\n",
    "        <li>Python</li>\n",
    "        <li>Py</li>\n",
    "        <li>gram Python</li>\n",
    "        <li>Pemrograman Python</li>"
   ]
  },
  {
   "cell_type": "code",
   "execution_count": 6,
   "id": "8f2862f8",
   "metadata": {},
   "outputs": [
    {
     "name": "stdout",
     "output_type": "stream",
     "text": [
      "1.Belajar\n",
      "2.ajar\n",
      "3.Pemrograman\n",
      "4.gram\n",
      "5.Python\n",
      "6.Py\n",
      "7.gram Python\n",
      "8.Pemrograman Python\n"
     ]
    }
   ],
   "source": [
    "kalimat = \"Belajar Pemrograman Python\"\n",
    "print(f'1.{kalimat [0:7]}')\n",
    "print(f'2.{kalimat [3:7]}')\n",
    "print(f'3.{kalimat [8:19]}')\n",
    "print(f'4.{kalimat [13:17]}')\n",
    "print(f'5.{kalimat [20:26]}')\n",
    "print(f'6.{kalimat [20:22]}')\n",
    "print(f'7.{kalimat [13:17]} {kalimat [20:26]}')\n",
    "print(f'8.{kalimat [8:19]} {kalimat [20:26]}')"
   ]
  },
  {
   "cell_type": "markdown",
   "id": "1a793bb7",
   "metadata": {},
   "source": [
    "<h3>latihan<h3>\n",
    "   <hr>buatlah program untuk mengecek bahwa sebuah email termasuk valid atau tidak. valid dikatakan true dan tidak valid dikatakan false. berikut contoh test case yang bisa digunakan sebagai acuan<hr>\n",
    "    <ol>\n",
    "        <li>alunsujjada@gmailcom = False</li>\n",
    "        <li>alunsujjada@gmail.com = True</li>\n",
    "        <li>alun.sujjada@gmail.com = False</li>\n",
    "        <li>alun.sujjada.gmail.com = False</li>\n",
    "        <li>alun.sujjada@gmail.com = False</li>\n",
    " "
   ]
  },
  {
   "cell_type": "code",
   "execution_count": 1,
   "id": "ca0f3db5",
   "metadata": {},
   "outputs": [
    {
     "name": "stdout",
     "output_type": "stream",
     "text": [
      "mirzayusuf21@gmail.com\n",
      "True\n"
     ]
    }
   ],
   "source": [
    "#code here\n",
    "import re\n",
    "\n",
    "def email(cek_email):\n",
    "    syarat = \"^[a-zA-Z0-9-_]+@[a-zA-Z0-9]+\\.[a-z]{1,3}$\"\n",
    "    if re.match(syarat,cek_email):\n",
    "        return True\n",
    "    return False\n",
    "\n",
    "cek_email = input()\n",
    "print(email(cek_email))"
   ]
  },
  {
   "cell_type": "code",
   "execution_count": null,
   "id": "e81da465",
   "metadata": {},
   "outputs": [],
   "source": []
  }
 ],
 "metadata": {
  "kernelspec": {
   "display_name": "Python 3 (ipykernel)",
   "language": "python",
   "name": "python3"
  },
  "language_info": {
   "codemirror_mode": {
    "name": "ipython",
    "version": 3
   },
   "file_extension": ".py",
   "mimetype": "text/x-python",
   "name": "python",
   "nbconvert_exporter": "python",
   "pygments_lexer": "ipython3",
   "version": "3.9.12"
  }
 },
 "nbformat": 4,
 "nbformat_minor": 5
}
